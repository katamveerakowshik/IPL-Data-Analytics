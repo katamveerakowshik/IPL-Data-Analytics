{
 "cells": [
  {
   "cell_type": "code",
   "execution_count": 1,
   "id": "a88e483c",
   "metadata": {},
   "outputs": [],
   "source": [
    "import pandas as pd\n",
    "import numpy as np\n",
    "import matplotlib.pyplot as plt\n",
    "import seaborn as sns\n",
    "\n",
    "import warnings\n",
    "warnings.filterwarnings(\"ignore\")\n",
    "%matplotlib inline"
   ]
  },
  {
   "cell_type": "code",
   "execution_count": 2,
   "id": "3b596874",
   "metadata": {},
   "outputs": [
    {
     "data": {
      "text/html": [
       "<div>\n",
       "<style scoped>\n",
       "    .dataframe tbody tr th:only-of-type {\n",
       "        vertical-align: middle;\n",
       "    }\n",
       "\n",
       "    .dataframe tbody tr th {\n",
       "        vertical-align: top;\n",
       "    }\n",
       "\n",
       "    .dataframe thead th {\n",
       "        text-align: right;\n",
       "    }\n",
       "</style>\n",
       "<table border=\"1\" class=\"dataframe\">\n",
       "  <thead>\n",
       "    <tr style=\"text-align: right;\">\n",
       "      <th></th>\n",
       "      <th>id</th>\n",
       "      <th>inning</th>\n",
       "      <th>over</th>\n",
       "      <th>ball</th>\n",
       "      <th>batsman</th>\n",
       "      <th>non_striker</th>\n",
       "      <th>bowler</th>\n",
       "      <th>batsman_runs</th>\n",
       "      <th>extra_runs</th>\n",
       "      <th>total_runs</th>\n",
       "      <th>non_boundary</th>\n",
       "      <th>is_wicket</th>\n",
       "      <th>dismissal_kind</th>\n",
       "      <th>player_dismissed</th>\n",
       "      <th>fielder</th>\n",
       "      <th>extras_type</th>\n",
       "      <th>batting_team</th>\n",
       "      <th>bowling_team</th>\n",
       "    </tr>\n",
       "  </thead>\n",
       "  <tbody>\n",
       "    <tr>\n",
       "      <th>0</th>\n",
       "      <td>335982</td>\n",
       "      <td>1</td>\n",
       "      <td>6</td>\n",
       "      <td>5</td>\n",
       "      <td>RT Ponting</td>\n",
       "      <td>BB McCullum</td>\n",
       "      <td>AA Noffke</td>\n",
       "      <td>1</td>\n",
       "      <td>0</td>\n",
       "      <td>1</td>\n",
       "      <td>0</td>\n",
       "      <td>0</td>\n",
       "      <td>NaN</td>\n",
       "      <td>NaN</td>\n",
       "      <td>NaN</td>\n",
       "      <td>NaN</td>\n",
       "      <td>Kolkata Knight Riders</td>\n",
       "      <td>Royal Challengers Bangalore</td>\n",
       "    </tr>\n",
       "    <tr>\n",
       "      <th>1</th>\n",
       "      <td>335982</td>\n",
       "      <td>1</td>\n",
       "      <td>6</td>\n",
       "      <td>6</td>\n",
       "      <td>BB McCullum</td>\n",
       "      <td>RT Ponting</td>\n",
       "      <td>AA Noffke</td>\n",
       "      <td>1</td>\n",
       "      <td>0</td>\n",
       "      <td>1</td>\n",
       "      <td>0</td>\n",
       "      <td>0</td>\n",
       "      <td>NaN</td>\n",
       "      <td>NaN</td>\n",
       "      <td>NaN</td>\n",
       "      <td>NaN</td>\n",
       "      <td>Kolkata Knight Riders</td>\n",
       "      <td>Royal Challengers Bangalore</td>\n",
       "    </tr>\n",
       "    <tr>\n",
       "      <th>2</th>\n",
       "      <td>335982</td>\n",
       "      <td>1</td>\n",
       "      <td>7</td>\n",
       "      <td>1</td>\n",
       "      <td>BB McCullum</td>\n",
       "      <td>RT Ponting</td>\n",
       "      <td>Z Khan</td>\n",
       "      <td>0</td>\n",
       "      <td>0</td>\n",
       "      <td>0</td>\n",
       "      <td>0</td>\n",
       "      <td>0</td>\n",
       "      <td>NaN</td>\n",
       "      <td>NaN</td>\n",
       "      <td>NaN</td>\n",
       "      <td>NaN</td>\n",
       "      <td>Kolkata Knight Riders</td>\n",
       "      <td>Royal Challengers Bangalore</td>\n",
       "    </tr>\n",
       "    <tr>\n",
       "      <th>3</th>\n",
       "      <td>335982</td>\n",
       "      <td>1</td>\n",
       "      <td>7</td>\n",
       "      <td>2</td>\n",
       "      <td>BB McCullum</td>\n",
       "      <td>RT Ponting</td>\n",
       "      <td>Z Khan</td>\n",
       "      <td>1</td>\n",
       "      <td>0</td>\n",
       "      <td>1</td>\n",
       "      <td>0</td>\n",
       "      <td>0</td>\n",
       "      <td>NaN</td>\n",
       "      <td>NaN</td>\n",
       "      <td>NaN</td>\n",
       "      <td>NaN</td>\n",
       "      <td>Kolkata Knight Riders</td>\n",
       "      <td>Royal Challengers Bangalore</td>\n",
       "    </tr>\n",
       "    <tr>\n",
       "      <th>4</th>\n",
       "      <td>335982</td>\n",
       "      <td>1</td>\n",
       "      <td>7</td>\n",
       "      <td>3</td>\n",
       "      <td>RT Ponting</td>\n",
       "      <td>BB McCullum</td>\n",
       "      <td>Z Khan</td>\n",
       "      <td>1</td>\n",
       "      <td>0</td>\n",
       "      <td>1</td>\n",
       "      <td>0</td>\n",
       "      <td>0</td>\n",
       "      <td>NaN</td>\n",
       "      <td>NaN</td>\n",
       "      <td>NaN</td>\n",
       "      <td>NaN</td>\n",
       "      <td>Kolkata Knight Riders</td>\n",
       "      <td>Royal Challengers Bangalore</td>\n",
       "    </tr>\n",
       "  </tbody>\n",
       "</table>\n",
       "</div>"
      ],
      "text/plain": [
       "       id  inning  over  ball      batsman  non_striker     bowler  \\\n",
       "0  335982       1     6     5   RT Ponting  BB McCullum  AA Noffke   \n",
       "1  335982       1     6     6  BB McCullum   RT Ponting  AA Noffke   \n",
       "2  335982       1     7     1  BB McCullum   RT Ponting     Z Khan   \n",
       "3  335982       1     7     2  BB McCullum   RT Ponting     Z Khan   \n",
       "4  335982       1     7     3   RT Ponting  BB McCullum     Z Khan   \n",
       "\n",
       "   batsman_runs  extra_runs  total_runs  non_boundary  is_wicket  \\\n",
       "0             1           0           1             0          0   \n",
       "1             1           0           1             0          0   \n",
       "2             0           0           0             0          0   \n",
       "3             1           0           1             0          0   \n",
       "4             1           0           1             0          0   \n",
       "\n",
       "  dismissal_kind player_dismissed fielder extras_type           batting_team  \\\n",
       "0            NaN              NaN     NaN         NaN  Kolkata Knight Riders   \n",
       "1            NaN              NaN     NaN         NaN  Kolkata Knight Riders   \n",
       "2            NaN              NaN     NaN         NaN  Kolkata Knight Riders   \n",
       "3            NaN              NaN     NaN         NaN  Kolkata Knight Riders   \n",
       "4            NaN              NaN     NaN         NaN  Kolkata Knight Riders   \n",
       "\n",
       "                  bowling_team  \n",
       "0  Royal Challengers Bangalore  \n",
       "1  Royal Challengers Bangalore  \n",
       "2  Royal Challengers Bangalore  \n",
       "3  Royal Challengers Bangalore  \n",
       "4  Royal Challengers Bangalore  "
      ]
     },
     "execution_count": 2,
     "metadata": {},
     "output_type": "execute_result"
    }
   ],
   "source": [
    "delivery = pd.read_csv(\"delivery.csv\")\n",
    "delivery.head()"
   ]
  },
  {
   "cell_type": "code",
   "execution_count": 3,
   "id": "b4719f28",
   "metadata": {},
   "outputs": [],
   "source": [
    "match = pd.read_csv(\"match.csv\")\n",
    "match[\"team1\"]=match[\"team1\"].replace(\"Rising Pune Supergiant\",\"Rising Pune Supergiants\")\n",
    "match[\"team2\"]=match[\"team2\"].replace(\"Rising Pune Supergiant\",\"Rising Pune Supergiants\")\n",
    "match[\"winner\"] = match[\"winner\"].replace(\"Rising Pune Supergiant\",\"Rising Pune Supergiants\")\n",
    "match[\"toss_winner\"] = match[\"toss_winner\"].replace(\"Rising Pune Supergiant\",\"Rising Pune Supergiants\")\n",
    "#So above code will replace the occurrence of “Rising Pune Supergiant” with “Rising Pune Supergiants” in the series\n",
    "#team1, team2, winner,and toss_winner"
   ]
  },
  {
   "cell_type": "code",
   "execution_count": 7,
   "id": "c0a57052",
   "metadata": {},
   "outputs": [
    {
     "data": {
      "text/plain": [
       "(193468, 18)"
      ]
     },
     "execution_count": 7,
     "metadata": {},
     "output_type": "execute_result"
    }
   ],
   "source": [
    "match.shape\n",
    "delivery.shape"
   ]
  },
  {
   "cell_type": "code",
   "execution_count": null,
   "id": "4f4c0f84",
   "metadata": {},
   "outputs": [],
   "source": [
    "match.info()"
   ]
  },
  {
   "cell_type": "code",
   "execution_count": null,
   "id": "c4728e6d",
   "metadata": {},
   "outputs": [],
   "source": [
    "delivery.info()"
   ]
  },
  {
   "cell_type": "code",
   "execution_count": null,
   "id": "4b6da243",
   "metadata": {},
   "outputs": [],
   "source": [
    "match.describe()"
   ]
  },
  {
   "cell_type": "code",
   "execution_count": null,
   "id": "688f1ee0",
   "metadata": {},
   "outputs": [],
   "source": [
    "delivery.describe()"
   ]
  },
  {
   "cell_type": "code",
   "execution_count": null,
   "id": "c065c9a0",
   "metadata": {},
   "outputs": [],
   "source": [
    "#Getting all the teams which are part of all 13 IPL tournaments\n",
    "all_teams = match[\"team1\"].tolist()\n",
    "all_teams = list(set(all_teams))\n",
    "all_teams"
   ]
  },
  {
   "cell_type": "code",
   "execution_count": null,
   "id": "f4b0773e",
   "metadata": {},
   "outputs": [],
   "source": [
    "#Eliminator matches\n",
    "match[\"eliminator\"].value_counts()"
   ]
  },
  {
   "cell_type": "code",
   "execution_count": null,
   "id": "331eb2cd",
   "metadata": {},
   "outputs": [],
   "source": [
    "#Graphical representation of eliminator\n",
    "sns.countplot(\"eliminator\",data = match);"
   ]
  },
  {
   "cell_type": "code",
   "execution_count": null,
   "id": "893f39bd",
   "metadata": {},
   "outputs": [],
   "source": [
    "#Number of mathes in each venue\n",
    "plt.figure(figsize=(16,8))\n",
    "sns.countplot(\"venue\", data = match)\n",
    "plt.xticks(rotation = \"vertical\")\n",
    "plt.title(\"Number of matches played at each venue\");"
   ]
  },
  {
   "cell_type": "raw",
   "id": "f93af619",
   "metadata": {},
   "source": [
    "Top 4 venue grounds are:\n",
    "1. Eden Gardens\n",
    "2. Feroz Shah Kotla\n",
    "3. Wankhede Stadium\n",
    "4. M Chinnaswamy Stadium"
   ]
  },
  {
   "cell_type": "code",
   "execution_count": null,
   "id": "c6875850",
   "metadata": {},
   "outputs": [],
   "source": [
    "#Number of Matches played by each team\n",
    "plt.figure(figsize=(16,8))\n",
    "x = match[\"team1\"].value_counts()\n",
    "y = match[\"team2\"].value_counts()\n",
    "z = x + y\n",
    "z.plot(kind = \"barh\")\n",
    "plt.title(\"Number of Matches played by each team\");"
   ]
  },
  {
   "cell_type": "code",
   "execution_count": null,
   "id": "f2971f5b",
   "metadata": {},
   "outputs": [],
   "source": [
    "#Number of matches won by each team\n",
    "plt.figure(figsize=(16,8))\n",
    "sns.countplot(\"winner\", data = match)\n",
    "plt.xticks(rotation = \"vertical\")\n",
    "plt.title(\"Number of Matches won by each team\")\n",
    "winners_list = match[\"winner\"].value_counts()\n",
    "winners_list;"
   ]
  },
  {
   "cell_type": "raw",
   "id": "c7b6b28d",
   "metadata": {},
   "source": [
    "Mumbai Indians won most number of matches(120)"
   ]
  },
  {
   "cell_type": "markdown",
   "id": "037a115b",
   "metadata": {},
   "source": [
    "# IPL Batting Analysis"
   ]
  },
  {
   "cell_type": "code",
   "execution_count": null,
   "id": "1e6e608f",
   "metadata": {},
   "outputs": [],
   "source": [
    "#Most Run Scored by IPL Teams\n",
    "delivery.groupby(['batting_team'])['total_runs'].sum().sort_values(ascending=False)"
   ]
  },
  {
   "cell_type": "code",
   "execution_count": null,
   "id": "61259905",
   "metadata": {},
   "outputs": [],
   "source": [
    "#Avg Run by Teams in Powerplay\n",
    "delivery[delivery['over']<6].groupby(['id','batting_team']).sum()['total_runs'].groupby('batting_team').mean().sort_values(ascending=False)[2:]"
   ]
  },
  {
   "cell_type": "code",
   "execution_count": null,
   "id": "084ad328",
   "metadata": {},
   "outputs": [],
   "source": [
    "#Most IPL Century by a Player\n",
    "runs = delivery.groupby(['batsman','id'])['batsman_runs'].sum()\n",
    "runs[runs >= 100].droplevel(level=1).groupby('batsman').count().sort_values(ascending=False)[:10]"
   ]
  },
  {
   "cell_type": "code",
   "execution_count": null,
   "id": "de3d0e2f",
   "metadata": {},
   "outputs": [],
   "source": [
    "#Most IPL Fifty by Player\n",
    "plt.figure(figsize=(10,8))\n",
    "runs = delivery.groupby(['batsman','id'])['batsman_runs'].sum()\n",
    "data = runs[runs >= 50].droplevel(level=1).groupby('batsman').count().sort_values(ascending=False)[:10]\n",
    "sns.barplot(y=data.index,x=data,orient='h')\n",
    "plt.xlabel('Half-Centuries')\n",
    "plt.ylabel('Batsman')\n",
    "plt.show()"
   ]
  },
  {
   "cell_type": "code",
   "execution_count": null,
   "id": "cd6f6e69",
   "metadata": {},
   "outputs": [],
   "source": [
    "#Most Boundary (4s) hit by a Batsman\n",
    "plt.figure(figsize=(10,8))\n",
    "data = delivery[delivery['batsman_runs'] == 4]['batsman'].value_counts()[:10]\n",
    "sns.barplot(y=data.index,x=data,orient='h')\n",
    "plt.xlabel('Fours')\n",
    "plt.ylabel('Batsman')\n",
    "plt.show()\n"
   ]
  },
  {
   "cell_type": "code",
   "execution_count": null,
   "id": "12627da9",
   "metadata": {},
   "outputs": [],
   "source": [
    "#Highest Total by IPL Teams\n",
    "delivery.groupby(['id','batting_team']).sum()['total_runs'].droplevel(level=0).sort_values(ascending=False)[:10]"
   ]
  },
  {
   "cell_type": "code",
   "execution_count": null,
   "id": "ad0dc569",
   "metadata": {},
   "outputs": [],
   "source": [
    "#Most IPL Sixes Hit by a batsman\n",
    "plt.figure(figsize=(10,8))\n",
    "data = delivery[delivery['batsman_runs'] == 6]['batsman'].value_counts()[:10]\n",
    "sns.barplot(y=data.index,x=data,orient='h')\n",
    "plt.xlabel('Sixes')\n",
    "plt.ylabel('Batsman')\n",
    "plt.show()"
   ]
  },
  {
   "cell_type": "code",
   "execution_count": null,
   "id": "58788fe3",
   "metadata": {},
   "outputs": [],
   "source": [
    "#Highest Individual IPL score\n",
    "delivery.groupby(['batsman','id'])['batsman_runs'].sum().sort_values(ascending=False)[:10]"
   ]
  },
  {
   "cell_type": "code",
   "execution_count": null,
   "id": "85206944",
   "metadata": {},
   "outputs": [],
   "source": [
    "#To find the batsman with most runs in IPL till date (2020)\n",
    "orange_cap =  delivery.groupby(\"batsman\")[\"batsman_runs\"].agg(\"sum\").reset_index()\n",
    "top_20 = orange_cap.sort_values(\"batsman_runs\", ascending=False).head(20)\n",
    "top_20"
   ]
  },
  {
   "cell_type": "raw",
   "id": "99ef807b",
   "metadata": {},
   "source": [
    "These are the top 20 run getters in the IPL so far\n",
    "Selectors may select atleast 3-4 players in this list"
   ]
  },
  {
   "cell_type": "code",
   "execution_count": null,
   "id": "fa65bba7",
   "metadata": {},
   "outputs": [],
   "source": [
    "plt.figure(figsize=(16,8))\n",
    "sns.barplot(x = top_20.batsman, y = top_20.batsman_runs)\n",
    "plt.xticks(rotation = \"vertical\")\n",
    "plt.title(\"Top 20 Run getters in IPL so far (2020)\", fontsize = 17);"
   ]
  },
  {
   "cell_type": "markdown",
   "id": "857785af",
   "metadata": {},
   "source": [
    "# Bowling Statistics"
   ]
  },
  {
   "cell_type": "code",
   "execution_count": null,
   "id": "ff2f6ba5",
   "metadata": {},
   "outputs": [],
   "source": [
    "#Most Dot Ball by a Bowler\n",
    "plt.figure(figsize=(10,8))\n",
    "data = delivery[delivery['total_runs'] == 0].groupby('bowler').count()['id'].sort_values(ascending=False)[:10]\n",
    "sns.barplot(y=data.index,x=data,orient='h')\n",
    "plt.xlabel('Dot Balls')\n",
    "plt.ylabel('bowler')\n",
    "plt.show()"
   ]
  },
  {
   "cell_type": "code",
   "execution_count": null,
   "id": "34d6e537",
   "metadata": {},
   "outputs": [],
   "source": [
    "#Most Maiden over by a Bowler\n",
    "data = delivery.groupby(['id','bowler','over'])['total_runs'].sum()\n",
    "data = data[data.values == 0].droplevel(level=[0,2])\n",
    "data.index.value_counts()[:10]"
   ]
  },
  {
   "cell_type": "code",
   "execution_count": null,
   "id": "46540187",
   "metadata": {},
   "outputs": [],
   "source": [
    "#Most Extras by a IPL team\n",
    "delivery.groupby(['bowling_team'])[\"extra_runs\"].agg('sum').sort_values(ascending=False)"
   ]
  },
  {
   "cell_type": "code",
   "execution_count": null,
   "id": "68fbc396",
   "metadata": {},
   "outputs": [],
   "source": [
    "#Most IPL Wickets by a Bowler\n",
    "mask1=delivery['dismissal_kind']=='caught'\n",
    "mask2=delivery['dismissal_kind']=='bowled'\n",
    "mask3=delivery['dismissal_kind']=='lbw'\n",
    "mask4=delivery['dismissal_kind']=='caught and bowled'\n",
    "mask5=delivery['dismissal_kind']=='stumped'\n",
    "\n",
    "new_del=delivery[mask1 | mask2 | mask3 | mask4 | mask5]\n",
    "new_del_final = new_del.groupby('bowler')['player_dismissed'].agg('count').sort_values(ascending=False).head(20)\n",
    "print(new_del_final)\n",
    "plt.figure(figsize=(16,8))\n",
    "sns.barplot(x = new_del_final.index, y = new_del_final.values)\n",
    "plt.xticks(rotation = \"vertical\");"
   ]
  },
  {
   "cell_type": "code",
   "execution_count": null,
   "id": "a1ecd0a4",
   "metadata": {
    "scrolled": false
   },
   "outputs": [],
   "source": [
    "#Top dismissal method\n",
    "plt.figure(figsize=(10,8))\n",
    "sns.countplot(x = delivery.dismissal_kind)\n",
    "plt.xticks(rotation = \"vertical\")\n",
    "plt.title(\"Number of dismissals and their methods\");"
   ]
  },
  {
   "cell_type": "code",
   "execution_count": null,
   "id": "8560e2da",
   "metadata": {
    "scrolled": true
   },
   "outputs": [],
   "source": [
    "#Most Number of runs given by a bowler\n",
    "most_economic = delivery.groupby(\"bowler\")[\"total_runs\"].agg(\"sum\").reset_index()\n",
    "top_20_economic = most_economic.sort_values(\"total_runs\", ascending=False).head(20)\n",
    "print(top_20_economic)\n",
    "plt.figure(figsize=(16,8))\n",
    "sns.barplot(x = top_20_economic.bowler, y = top_20_economic.total_runs)\n",
    "plt.xticks(rotation = \"vertical\")\n",
    "plt.title(\"Top 20 most economic bowlers in IPL so far (2020)\", fontsize = 17);"
   ]
  },
  {
   "cell_type": "code",
   "execution_count": null,
   "id": "5c25501e",
   "metadata": {},
   "outputs": [],
   "source": [
    "#Chawla Bowling Performance\n",
    "condition = delivery[\"bowler\"] == \"PP Chawla\"\n",
    "chawla_bowling_by_team = delivery[condition].groupby(\"batting_team\")[\"total_runs\"].agg(sum)\n",
    "print(chawla_bowling_by_team)\n",
    "plt.figure(figsize=(10,8))\n",
    "sns.barplot(x = chawla_bowling_by_team.index, y = chawla_bowling_by_team.values)\n",
    "plt.xticks(rotation = \"vertical\")\n",
    "plt.title(\"Chawla Bowling Performace with Each team\");\n"
   ]
  },
  {
   "cell_type": "raw",
   "id": "84761f03",
   "metadata": {},
   "source": [
    "Selectors for the match can give rest to the player if his performace is bad with one particular team"
   ]
  },
  {
   "cell_type": "markdown",
   "id": "b141f4fd",
   "metadata": {},
   "source": [
    "# Miscellaneous"
   ]
  },
  {
   "cell_type": "code",
   "execution_count": null,
   "id": "35fc35df",
   "metadata": {},
   "outputs": [],
   "source": [
    "#Most Number of wins in eliminator\n",
    "sns.countplot(match[\"winner\"][match[\"eliminator\"] == \"Y\"])\n",
    "plt.xticks(rotation = \"vertical\")\n",
    "plt.title(\"Number of wins by a team in a eliminator\");"
   ]
  },
  {
   "cell_type": "code",
   "execution_count": null,
   "id": "f6e57647",
   "metadata": {},
   "outputs": [],
   "source": [
    "# Top 5 MOM players \n",
    "mom_players = match[\"player_of_match\"].value_counts()\n",
    "temp_values = mom_players.head()"
   ]
  },
  {
   "cell_type": "code",
   "execution_count": null,
   "id": "c90c58e2",
   "metadata": {},
   "outputs": [],
   "source": [
    "sns.barplot(x = temp_values.index, y = temp_values.values)\n",
    "plt.title(\"Number of Man of the Match Winning matches by each player\")\n",
    "plt.xlabel(\"Player Name\")\n",
    "plt.ylabel(\"Number of MOM awards\");"
   ]
  },
  {
   "cell_type": "raw",
   "id": "2fb3ef38",
   "metadata": {},
   "source": [
    "Top 5 player of the match players are:\n",
    "\n",
    "AB de Villiers    23\n",
    "CH Gayle          22\n",
    "RG Sharma         18\n",
    "DA Warner         17\n",
    "MS Dhoni          17"
   ]
  },
  {
   "cell_type": "code",
   "execution_count": null,
   "id": "a1949210",
   "metadata": {},
   "outputs": [],
   "source": [
    "plt.figure(figsize=(16,8))\n",
    "delivery3 =delivery[[\"batting_team\",\"over\",\"batsman_runs\"]] \n",
    "x = delivery3.pivot_table(values = \"batsman_runs\", index = \"batting_team\", columns = \"over\", aggfunc = \"count\")\n",
    "sns.heatmap(x,cmap = \"summer\")\n",
    "plt.title(\"Heat map of each franchise vs over and there score in each over\", fontsize = 20);"
   ]
  },
  {
   "cell_type": "raw",
   "id": "ec1e7d86",
   "metadata": {},
   "source": [
    "CSK, MI, RCB has good batting line up from start till end that's why everything is almost yellow for these teams.\n",
    "Where as SRH, RR still don't have better batting lineups"
   ]
  },
  {
   "cell_type": "code",
   "execution_count": null,
   "id": "9a865b46",
   "metadata": {},
   "outputs": [],
   "source": [
    "#Runs scored by Kohli against Malinga\n",
    "mask=delivery['bowler']=='SL Malinga'\n",
    "mask2=delivery['batsman']=='V Kohli'\n",
    "delivery[mask].groupby('batsman')['batsman_runs'].agg('count').sort_values(ascending=False)['V Kohli']"
   ]
  },
  {
   "cell_type": "code",
   "execution_count": null,
   "id": "2fa929f6",
   "metadata": {},
   "outputs": [],
   "source": []
  },
  {
   "cell_type": "code",
   "execution_count": null,
   "id": "98d2a855",
   "metadata": {},
   "outputs": [],
   "source": []
  }
 ],
 "metadata": {
  "kernelspec": {
   "display_name": "Python 3 (ipykernel)",
   "language": "python",
   "name": "python3"
  },
  "language_info": {
   "codemirror_mode": {
    "name": "ipython",
    "version": 3
   },
   "file_extension": ".py",
   "mimetype": "text/x-python",
   "name": "python",
   "nbconvert_exporter": "python",
   "pygments_lexer": "ipython3",
   "version": "3.9.12"
  }
 },
 "nbformat": 4,
 "nbformat_minor": 5
}
